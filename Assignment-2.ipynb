{
 "cells": [
  {
   "cell_type": "markdown",
   "id": "852c93e7-2387-4b9a-95ba-564bda590e9b",
   "metadata": {},
   "source": [
    "Q1. How do you comment code in Python? What are the different types of comments?"
   ]
  },
  {
   "cell_type": "markdown",
   "id": "26772376-4fd2-4370-8c43-52c188f6a059",
   "metadata": {},
   "source": [
    "Ans."
   ]
  },
  {
   "cell_type": "code",
   "execution_count": 1,
   "id": "f5428862-87d1-4022-98de-9558f8f63755",
   "metadata": {},
   "outputs": [
    {
     "name": "stdout",
     "output_type": "stream",
     "text": [
      "comment Name\n"
     ]
    }
   ],
   "source": [
    "print(\"comment Name\")"
   ]
  },
  {
   "cell_type": "markdown",
   "id": "4e5c7d22-f3ef-4ec8-a2ac-f2e186281332",
   "metadata": {},
   "source": [
    "There are three types of comments\n",
    "i-single-line\n",
    "ii-multi-line\n",
    "iii-docstring comments"
   ]
  },
  {
   "cell_type": "markdown",
   "id": "ae7047b2-4ca3-4112-86f7-7e0a1f555a82",
   "metadata": {},
   "source": [
    "Q2. What are variables in Python? How do you declare and assign values to variables?"
   ]
  },
  {
   "cell_type": "markdown",
   "id": "6063a97c-3f4e-4600-af64-88bc39acf6f2",
   "metadata": {},
   "source": [
    "Ans."
   ]
  },
  {
   "cell_type": "markdown",
   "id": "caf4f572-9546-4fb8-8ad5-70c97f5ef545",
   "metadata": {},
   "source": [
    "A variable is a string of characters and number associated with a piece of information. And the assignment operator, denoted by the \"=\" symbol\n",
    "\n",
    "example"
   ]
  },
  {
   "cell_type": "code",
   "execution_count": 2,
   "id": "de335628-5051-4672-b77d-148d6ea77f3f",
   "metadata": {},
   "outputs": [],
   "source": [
    "a = 1"
   ]
  },
  {
   "cell_type": "code",
   "execution_count": 3,
   "id": "0efaf334-2d26-4697-af5b-eabdcdcaaf9a",
   "metadata": {},
   "outputs": [
    {
     "data": {
      "text/plain": [
       "1"
      ]
     },
     "execution_count": 3,
     "metadata": {},
     "output_type": "execute_result"
    }
   ],
   "source": [
    "a"
   ]
  },
  {
   "cell_type": "markdown",
   "id": "c9624dbb-62f6-46f8-9210-14d8c84ba63f",
   "metadata": {},
   "source": [
    "Q3. How do you convert one data type to another in Python?"
   ]
  },
  {
   "cell_type": "markdown",
   "id": "8f865dac-e692-448a-aeed-423bfc9e3645",
   "metadata": {},
   "source": [
    "Ans."
   ]
  },
  {
   "cell_type": "code",
   "execution_count": 7,
   "id": "02bd21b5-82e7-4fee-bac0-96cebe46e51e",
   "metadata": {},
   "outputs": [],
   "source": [
    "a = 102"
   ]
  },
  {
   "cell_type": "code",
   "execution_count": 8,
   "id": "094c6c89-e93d-490d-b590-a8534cfe275a",
   "metadata": {},
   "outputs": [
    {
     "data": {
      "text/plain": [
       "int"
      ]
     },
     "execution_count": 8,
     "metadata": {},
     "output_type": "execute_result"
    }
   ],
   "source": [
    "type(a)"
   ]
  },
  {
   "cell_type": "markdown",
   "id": "af35218e-37f3-4823-b434-ec6239602fbb",
   "metadata": {},
   "source": [
    "float(a)"
   ]
  },
  {
   "cell_type": "markdown",
   "id": "9ebc64c3-ab94-46ac-8be0-29ff4e4f1d93",
   "metadata": {},
   "source": [
    "Q4. How do you write and execute a Python script from the command line?"
   ]
  },
  {
   "cell_type": "markdown",
   "id": "1fc97702-35ba-4c2a-b960-1aad54d897be",
   "metadata": {},
   "source": [
    "Ans."
   ]
  },
  {
   "cell_type": "code",
   "execution_count": 11,
   "id": "05ced0e0-d1e9-43ff-8aca-a6937eda3baa",
   "metadata": {},
   "outputs": [
    {
     "name": "stdout",
     "output_type": "stream",
     "text": [
      "hello world\n"
     ]
    }
   ],
   "source": [
    "print(\"hello world\")"
   ]
  },
  {
   "cell_type": "markdown",
   "id": "ef751df7-bbe1-4b24-a510-82fed8ebaaf7",
   "metadata": {},
   "source": [
    "Q5. Given a list my_list = [1, 2, 3, 4, 5], write the code to slice the list and obtain the sub-list [2, 3]."
   ]
  },
  {
   "cell_type": "markdown",
   "id": "95ae9332-b131-43a4-b1ec-af1bc8ab9885",
   "metadata": {},
   "source": [
    "Ans."
   ]
  },
  {
   "cell_type": "code",
   "execution_count": 12,
   "id": "e7998336-bfa5-4eea-9b36-1681fee2dcd4",
   "metadata": {},
   "outputs": [],
   "source": [
    "my_list = [1,2,3,4,5]"
   ]
  },
  {
   "cell_type": "code",
   "execution_count": 13,
   "id": "2b8c7ee1-61e1-41f5-a9b3-f5ae8a811574",
   "metadata": {},
   "outputs": [],
   "source": [
    "l1 = my_list[1:3:1]"
   ]
  },
  {
   "cell_type": "code",
   "execution_count": 14,
   "id": "51aca690-54ea-49d8-b247-1095d32408d8",
   "metadata": {},
   "outputs": [
    {
     "data": {
      "text/plain": [
       "[2, 3]"
      ]
     },
     "execution_count": 14,
     "metadata": {},
     "output_type": "execute_result"
    }
   ],
   "source": [
    "l1"
   ]
  },
  {
   "cell_type": "markdown",
   "id": "b81ccf51-5b4e-4dae-9d9d-a1edd32f3ddc",
   "metadata": {},
   "source": [
    "Q6. What is a complex number in mathematics, and how is it represented in Python?"
   ]
  },
  {
   "cell_type": "markdown",
   "id": "55efd8d8-18da-4486-87b8-99467992a68d",
   "metadata": {},
   "source": [
    "Ans."
   ]
  },
  {
   "cell_type": "markdown",
   "id": "265da3b7-a332-4fd5-a98f-a8a6a9b9ef97",
   "metadata": {},
   "source": [
    "Complex number in mathematics is \n",
    "5+6i"
   ]
  },
  {
   "cell_type": "code",
   "execution_count": 15,
   "id": "9fb48d31-7ae3-4edc-a51c-f183c638806f",
   "metadata": {},
   "outputs": [],
   "source": [
    "a = 6+5j"
   ]
  },
  {
   "cell_type": "code",
   "execution_count": 16,
   "id": "51a65f3e-31c0-4f44-a8f4-a87b993b286c",
   "metadata": {},
   "outputs": [
    {
     "data": {
      "text/plain": [
       "complex"
      ]
     },
     "execution_count": 16,
     "metadata": {},
     "output_type": "execute_result"
    }
   ],
   "source": [
    "type(a)"
   ]
  },
  {
   "cell_type": "markdown",
   "id": "41ae6c77-0b17-4e07-9cea-42ad46b1d4fb",
   "metadata": {},
   "source": [
    "Q7. What is the correct way to declare a variable named age and assign the value 25 to it?"
   ]
  },
  {
   "cell_type": "markdown",
   "id": "343dfc51-6a24-48f3-9d2d-eaa3a434e00f",
   "metadata": {},
   "source": [
    "Ans."
   ]
  },
  {
   "cell_type": "code",
   "execution_count": 26,
   "id": "b267feb1-2a15-4a88-a553-5ec968acd21d",
   "metadata": {},
   "outputs": [],
   "source": [
    "age = int(25)"
   ]
  },
  {
   "cell_type": "code",
   "execution_count": 27,
   "id": "744aa7bc-1029-4444-83a6-224bd11a2b2c",
   "metadata": {},
   "outputs": [
    {
     "data": {
      "text/plain": [
       "25"
      ]
     },
     "execution_count": 27,
     "metadata": {},
     "output_type": "execute_result"
    }
   ],
   "source": [
    "age"
   ]
  },
  {
   "cell_type": "markdown",
   "id": "d5802369-8fe0-459f-a236-98fed355338d",
   "metadata": {},
   "source": [
    "Q8. Declare a variable named price and assign the value 9.99 to it. What data type does this variable\n",
    "belong to?"
   ]
  },
  {
   "cell_type": "markdown",
   "id": "fb12e5d9-7a9d-492c-a5b9-a1dd218e090c",
   "metadata": {},
   "source": [
    "Ans."
   ]
  },
  {
   "cell_type": "code",
   "execution_count": 30,
   "id": "a0b2fb9b-20e0-4149-8b44-e4bcaea0a580",
   "metadata": {},
   "outputs": [],
   "source": [
    "price = 9.99"
   ]
  },
  {
   "cell_type": "code",
   "execution_count": 31,
   "id": "8d96e10f-a949-4f5c-b42c-84cf644f704b",
   "metadata": {},
   "outputs": [
    {
     "data": {
      "text/plain": [
       "float"
      ]
     },
     "execution_count": 31,
     "metadata": {},
     "output_type": "execute_result"
    }
   ],
   "source": [
    "type(price)"
   ]
  },
  {
   "cell_type": "markdown",
   "id": "d3daf6b8-92fc-49f4-b1df-f0aad7a7513b",
   "metadata": {},
   "source": [
    "Q9. Create a variable named name and assign your full name to it as a string. How would you print the\n",
    "value of this variable?"
   ]
  },
  {
   "cell_type": "markdown",
   "id": "347df52b-c214-40ff-993c-5e5750de6ade",
   "metadata": {},
   "source": [
    "Ans."
   ]
  },
  {
   "cell_type": "code",
   "execution_count": 35,
   "id": "09d5f63a-c0f5-415d-892e-f8215cf098f1",
   "metadata": {},
   "outputs": [
    {
     "name": "stdout",
     "output_type": "stream",
     "text": [
      "Sandeep Verma\n"
     ]
    }
   ],
   "source": [
    "name = \"Sandeep Verma\"\n",
    "print(name)"
   ]
  },
  {
   "cell_type": "code",
   "execution_count": 37,
   "id": "6d0bac18-be28-4550-b850-f56990322ecd",
   "metadata": {},
   "outputs": [
    {
     "name": "stdout",
     "output_type": "stream",
     "text": [
      "Sandeep Verma\n"
     ]
    }
   ],
   "source": [
    "name = \"Sandeep Verma\"\n",
    "print(name)"
   ]
  },
  {
   "cell_type": "markdown",
   "id": "6b2ae436-b020-47e7-8ada-d346c73300b6",
   "metadata": {},
   "source": [
    "Q10. Given the string \"Hello, World!\", extract the substring \"World\"."
   ]
  },
  {
   "cell_type": "markdown",
   "id": "9b313c30-b557-4138-bba4-dc21ecb3a505",
   "metadata": {},
   "source": [
    "Ans."
   ]
  },
  {
   "cell_type": "code",
   "execution_count": 3,
   "id": "600c1a0c-c2d1-4854-9bd1-89060eec9927",
   "metadata": {},
   "outputs": [],
   "source": [
    "s = \"Hello, World!\""
   ]
  },
  {
   "cell_type": "code",
   "execution_count": 4,
   "id": "278dff62-7ea8-42ac-834a-1f0353bd7ead",
   "metadata": {},
   "outputs": [
    {
     "data": {
      "text/plain": [
       "'World'"
      ]
     },
     "execution_count": 4,
     "metadata": {},
     "output_type": "execute_result"
    }
   ],
   "source": [
    "s[7:12:1]"
   ]
  },
  {
   "cell_type": "markdown",
   "id": "de64c50d-1056-49e5-b5bc-887ace59e315",
   "metadata": {},
   "source": [
    "Q11. Create a variable named \"is_student\" and assign it a boolean value indicating whether you are\n",
    "currently a student or not."
   ]
  },
  {
   "cell_type": "markdown",
   "id": "5de3ab9a-f5f2-4c33-8a36-5b88c839e73c",
   "metadata": {},
   "source": [
    "Ans."
   ]
  },
  {
   "cell_type": "code",
   "execution_count": 5,
   "id": "c8d39158-5579-4dd0-8849-43effecede8e",
   "metadata": {},
   "outputs": [
    {
     "name": "stdout",
     "output_type": "stream",
     "text": [
      "True\n"
     ]
    }
   ],
   "source": [
    "is_student=True\n",
    "print(is_student)"
   ]
  },
  {
   "cell_type": "code",
   "execution_count": 6,
   "id": "87e5366f-938a-485a-9657-3a782dddfa29",
   "metadata": {},
   "outputs": [
    {
     "data": {
      "text/plain": [
       "bool"
      ]
     },
     "execution_count": 6,
     "metadata": {},
     "output_type": "execute_result"
    }
   ],
   "source": [
    "type(is_student)"
   ]
  },
  {
   "cell_type": "code",
   "execution_count": null,
   "id": "d26138c8-bbcb-4b87-9dbb-5fb9c8f269b8",
   "metadata": {},
   "outputs": [],
   "source": []
  }
 ],
 "metadata": {
  "kernelspec": {
   "display_name": "Python 3 (ipykernel)",
   "language": "python",
   "name": "python3"
  },
  "language_info": {
   "codemirror_mode": {
    "name": "ipython",
    "version": 3
   },
   "file_extension": ".py",
   "mimetype": "text/x-python",
   "name": "python",
   "nbconvert_exporter": "python",
   "pygments_lexer": "ipython3",
   "version": "3.10.8"
  }
 },
 "nbformat": 4,
 "nbformat_minor": 5
}
